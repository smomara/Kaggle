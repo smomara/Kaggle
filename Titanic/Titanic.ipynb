{
 "cells": [
  {
   "cell_type": "markdown",
   "id": "7fda86cd",
   "metadata": {},
   "source": [
    "# Importing Data"
   ]
  },
  {
   "cell_type": "code",
   "execution_count": 1,
   "id": "e1b0276e",
   "metadata": {},
   "outputs": [],
   "source": [
    "import numpy as np\n",
    "import pandas as pd\n",
    "\n",
    "data = pd.read_csv('./train.csv')\n",
    "data_test = pd.read_csv('./test.csv')\n",
    "\n",
    "y = data.Survived\n",
    "data.drop(['Survived'], axis = 1, inplace = True)"
   ]
  },
  {
   "cell_type": "markdown",
   "id": "1f8b59f4",
   "metadata": {},
   "source": [
    "# Simple Data Cleaning and Organization"
   ]
  },
  {
   "cell_type": "code",
   "execution_count": 2,
   "id": "cdb2c0b1",
   "metadata": {},
   "outputs": [],
   "source": [
    "categorical_cols = [cname for cname in data.columns if\n",
    "                    data[cname].dtype == object and\n",
    "                    data [cname].nunique() < 10]\n",
    "\n",
    "numerical_cols = [cname for cname in data.columns if\n",
    "                  data[cname].dtype in ['int64', 'float64']]"
   ]
  },
  {
   "cell_type": "code",
   "execution_count": 3,
   "id": "a459a034",
   "metadata": {},
   "outputs": [],
   "source": [
    "my_cols = categorical_cols + numerical_cols\n",
    "\n",
    "X_train = data[my_cols].copy()\n",
    "X_test = data_test[my_cols].copy()"
   ]
  },
  {
   "cell_type": "markdown",
   "id": "e94b95dc",
   "metadata": {},
   "source": [
    "# Preprocessing and Pipelines "
   ]
  },
  {
   "cell_type": "code",
   "execution_count": 4,
   "id": "efcac7a1",
   "metadata": {},
   "outputs": [],
   "source": [
    "from sklearn.compose import ColumnTransformer\n",
    "from sklearn.pipeline import Pipeline\n",
    "from sklearn.impute import SimpleImputer\n",
    "from sklearn.preprocessing import OneHotEncoder\n",
    "\n",
    "numerical_transformer = SimpleImputer(strategy = 'median', add_indicator = True)\n",
    "\n",
    "categorical_transformer = Pipeline(steps = [\n",
    "    ('imputer', SimpleImputer(strategy = 'most_frequent')),\n",
    "    ('onehot', OneHotEncoder(handle_unknown = 'ignore'))\n",
    "])\n",
    "\n",
    "preprocessor = ColumnTransformer(transformers = [\n",
    "    ('num', numerical_transformer, numerical_cols),\n",
    "    ('cat', categorical_transformer, categorical_cols)\n",
    "])\n",
    "\n",
    "proc_X_train = preprocessor.fit_transform(X_train)"
   ]
  },
  {
   "cell_type": "markdown",
   "id": "fd55f34f",
   "metadata": {},
   "source": [
    "# Modeling"
   ]
  },
  {
   "cell_type": "code",
   "execution_count": 5,
   "id": "6010136f",
   "metadata": {},
   "outputs": [],
   "source": [
    "from sklearn import model_selection\n",
    "from sklearn.linear_model import LogisticRegression\n",
    "from sklearn.svm import SVC\n",
    "from sklearn.ensemble import RandomForestClassifier\n",
    "from xgboost import XGBClassifier, XGBRFClassifier\n",
    "\n",
    "models = []\n",
    "models.append(('LR', LogisticRegression(solver = 'liblinear', random_state = 0)))\n",
    "models.append(('SVM', SVC(random_state = 0)))\n",
    "models.append(('RFC', RandomForestClassifier(random_state = 0)))\n",
    "models.append(('XGB', XGBClassifier(random_state = 0)))\n",
    "models.append(('XGBRF', XGBRFClassifier(random_state = 0)))"
   ]
  },
  {
   "cell_type": "code",
   "execution_count": 6,
   "id": "cdcc3d8e",
   "metadata": {},
   "outputs": [
    {
     "name": "stdout",
     "output_type": "stream",
     "text": [
      "LR :  0.7912484394506867\n",
      "SVM :  0.6465543071161048\n",
      "RFC :  0.8137578027465666\n",
      "XGB :  0.7924594257178528\n",
      "XGBRF :  0.8204868913857679\n"
     ]
    }
   ],
   "source": [
    "for name, model in models:\n",
    "    kfold = model_selection.KFold(n_splits = 10)\n",
    "    cv_results = model_selection.cross_val_score(model, proc_X_train, y, cv = kfold, scoring = 'accuracy')\n",
    "    print(name, ': ', cv_results.mean())"
   ]
  },
  {
   "cell_type": "markdown",
   "id": "1059dcee",
   "metadata": {},
   "source": [
    "# XGBoost Random Forest Classifier"
   ]
  },
  {
   "cell_type": "code",
   "execution_count": 7,
   "id": "044d5154",
   "metadata": {},
   "outputs": [
    {
     "name": "stdout",
     "output_type": "stream",
     "text": [
      "Fitting 5 folds for each of 48 candidates, totalling 240 fits\n",
      "Best Params:  {'colsample_bynode': 0.75, 'n_estimators': 140, 'subsample': 0.8}\n",
      "Best Score:  0.8226853304877283\n"
     ]
    }
   ],
   "source": [
    "from sklearn.model_selection import GridSearchCV\n",
    "\n",
    "xgbrfc = XGBRFClassifier(random_state = 0)\n",
    "params = [{'n_estimators': [140, 150, 160, 170],\n",
    "          'subsample': [0.9, 0.8, 0.7, 0.6],\n",
    "          'colsample_bynode': [0.5, 0.75, 0.1]}]\n",
    "\n",
    "gs_xgbrfc = GridSearchCV(xgbrfc, \n",
    "                         param_grid = params, \n",
    "                         scoring = 'accuracy', \n",
    "                         cv = 5, \n",
    "                         verbose  = 1)\n",
    "\n",
    "gs_xgbrfc.fit(proc_X_train, y)\n",
    "print('Best Params: ', gs_xgbrfc.best_params_)\n",
    "print('Best Score: ', gs_xgbrfc.best_score_)"
   ]
  },
  {
   "cell_type": "code",
   "execution_count": 8,
   "id": "30a8b606",
   "metadata": {},
   "outputs": [],
   "source": [
    "xgbrfc = XGBRFClassifier(n_estimators = 140, \n",
    "                         subsample = 0.8, \n",
    "                         colsample_bynode = 0.75, \n",
    "                         random_state = 0)"
   ]
  },
  {
   "cell_type": "markdown",
   "id": "40b478c7",
   "metadata": {},
   "source": [
    "# Prediction"
   ]
  },
  {
   "cell_type": "code",
   "execution_count": 9,
   "id": "4d9b2d6b",
   "metadata": {},
   "outputs": [],
   "source": [
    "classifier = Pipeline(steps = [\n",
    "    ('preprocessor', preprocessor),\n",
    "    ('model', xgbrfc)\n",
    "])\n",
    "\n",
    "classifier.fit(X_train, y)\n",
    "\n",
    "predictions = classifier.predict(X_test)"
   ]
  },
  {
   "cell_type": "code",
   "execution_count": 10,
   "id": "6c676033",
   "metadata": {},
   "outputs": [],
   "source": [
    "output = pd.DataFrame({'PassengerId' : X_test.PassengerId,\n",
    "                      'Survived' : predictions})\n",
    "output.to_csv('submission.csv', index = False)"
   ]
  }
 ],
 "metadata": {
  "kernelspec": {
   "display_name": "Python 3 (ipykernel)",
   "language": "python",
   "name": "python3"
  },
  "language_info": {
   "codemirror_mode": {
    "name": "ipython",
    "version": 3
   },
   "file_extension": ".py",
   "mimetype": "text/x-python",
   "name": "python",
   "nbconvert_exporter": "python",
   "pygments_lexer": "ipython3",
   "version": "3.9.12"
  }
 },
 "nbformat": 4,
 "nbformat_minor": 5
}
