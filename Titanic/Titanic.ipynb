{
 "cells": [
  {
   "cell_type": "code",
   "execution_count": 87,
   "id": "1756ee68",
   "metadata": {
    "scrolled": true
   },
   "outputs": [],
   "source": [
    "import pandas as pd\n",
    "\n",
    "X_full = pd.read_csv('./train.csv')\n",
    "X_test_full = pd.read_csv('./test.csv')\n",
    "\n",
    "X_full.dropna(axis = 0, subset = ['Survived'], inplace = True)\n",
    "y = X_full.Survived\n",
    "X_full.drop(['Survived'], axis = 1, inplace = True)\n",
    "\n",
    "categorical_cols = [cname for cname in X_full.columns if\n",
    "                   X_full[cname].nunique() < 10 and\n",
    "                   X_full[cname].dtype == 'object']\n",
    "numerical_cols = [cname for cname in X_full.columns if\n",
    "                 X_full[cname].dtype in ['int64', 'float64']]                  \n",
    "my_cols = categorical_cols + numerical_cols\n",
    "\n",
    "X_train = X_full[my_cols].copy()\n",
    "X_test = X_test_full[my_cols].copy()"
   ]
  },
  {
   "cell_type": "code",
   "execution_count": 90,
   "id": "2c97d6c6",
   "metadata": {},
   "outputs": [
    {
     "name": "stdout",
     "output_type": "stream",
     "text": [
      "Scores:  [0.80446927 0.82022472 0.82022472 0.79213483 0.84831461]\n",
      "Average CV score:  0.8170736300295023\n"
     ]
    }
   ],
   "source": [
    "from sklearn.compose import ColumnTransformer\n",
    "from sklearn.pipeline import Pipeline\n",
    "from sklearn.impute import SimpleImputer\n",
    "from sklearn.preprocessing import OneHotEncoder\n",
    "from sklearn.ensemble import RandomForestRegressor\n",
    "from sklearn.linear_model import LogisticRegression\n",
    "\n",
    "numerical_transformer = SimpleImputer(strategy = 'median', add_indicator = True)\n",
    "\n",
    "categorical_transformer = Pipeline(steps = [\n",
    "    ('imputer', SimpleImputer(strategy = 'most_frequent')),\n",
    "    ('onehot', OneHotEncoder(handle_unknown = 'ignore'))\n",
    "])\n",
    "\n",
    "preprocessor = ColumnTransformer(transformers = [\n",
    "    ('num', numerical_transformer, numerical_cols),\n",
    "    ('cat', categorical_transformer, categorical_cols)\n",
    "])\n",
    "\n",
    "model = RandomForestClassifier(n_estimators = 165, max_depth = 6, random_state = 0)\n",
    "\n",
    "my_pipeline = Pipeline(steps = [\n",
    "    ('preprocessor', preprocessor),\n",
    "    ('model', model)\n",
    "])\n",
    "\n",
    "my_pipeline.fit(X_train, y)\n",
    "\n",
    "predictions = my_pipeline.predict(X_test)\n",
    "\n",
    "from sklearn.model_selection import cross_val_score\n",
    "\n",
    "scores = cross_val_score(my_pipeline, X_train, y)\n",
    "print(\"Scores: \", scores)\n",
    "print(\"Average CV score: \", scores.mean())"
   ]
  },
  {
   "cell_type": "code",
   "execution_count": 89,
   "id": "e2d366e2",
   "metadata": {},
   "outputs": [],
   "source": [
    "output = pd.DataFrame({'PassengerId' : X_test.PassengerId,\n",
    "                      'Survived' : test_preds})\n",
    "output.to_csv('submission.csv', index = False)"
   ]
  }
 ],
 "metadata": {
  "kernelspec": {
   "display_name": "Python 3 (ipykernel)",
   "language": "python",
   "name": "python3"
  },
  "language_info": {
   "codemirror_mode": {
    "name": "ipython",
    "version": 3
   },
   "file_extension": ".py",
   "mimetype": "text/x-python",
   "name": "python",
   "nbconvert_exporter": "python",
   "pygments_lexer": "ipython3",
   "version": "3.9.12"
  }
 },
 "nbformat": 4,
 "nbformat_minor": 5
}
