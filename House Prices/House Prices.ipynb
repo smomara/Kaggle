{
 "cells": [
  {
   "cell_type": "markdown",
   "id": "1d18f123",
   "metadata": {},
   "source": [
    "# Importing Data"
   ]
  },
  {
   "cell_type": "code",
   "execution_count": 1,
   "id": "030f56e2",
   "metadata": {},
   "outputs": [],
   "source": [
    "import pandas as pd\n",
    "\n",
    "train = pd.read_csv('.train.csv', index_col = 'Id')\n",
    "test = pd.read_csv('./test.csv', index_col = 'Id')"
   ]
  },
  {
   "cell_type": "markdown",
   "id": "3bfcd1f7",
   "metadata": {},
   "source": [
    "# Finding and Dropping Missing Values"
   ]
  },
  {
   "cell_type": "code",
   "execution_count": 2,
   "id": "30ca3e1d",
   "metadata": {},
   "outputs": [
    {
     "data": {
      "text/plain": [
       "(1460, 80)"
      ]
     },
     "execution_count": 2,
     "metadata": {},
     "output_type": "execute_result"
    }
   ],
   "source": [
    "train.shape"
   ]
  },
  {
   "cell_type": "code",
   "execution_count": 3,
   "id": "6abd649c",
   "metadata": {},
   "outputs": [
    {
     "data": {
      "text/plain": [
       "PoolQC          1453\n",
       "MiscFeature     1406\n",
       "Alley           1369\n",
       "Fence           1179\n",
       "FireplaceQu      690\n",
       "LotFrontage      259\n",
       "GarageYrBlt       81\n",
       "GarageCond        81\n",
       "GarageType        81\n",
       "GarageFinish      81\n",
       "dtype: int64"
      ]
     },
     "execution_count": 3,
     "metadata": {},
     "output_type": "execute_result"
    }
   ],
   "source": [
    "train.isnull().sum().sort_values(ascending = False).head(10)"
   ]
  },
  {
   "cell_type": "code",
   "execution_count": 4,
   "id": "2b21751f",
   "metadata": {},
   "outputs": [
    {
     "data": {
      "text/plain": [
       "(1460, 74)"
      ]
     },
     "execution_count": 4,
     "metadata": {},
     "output_type": "execute_result"
    }
   ],
   "source": [
    "cols_to_drop_na = train.isnull().sum().sort_values(ascending = False).head(6).index.tolist()\n",
    "\n",
    "train.drop(cols_to_drop_na, axis = 1, inplace = True)\n",
    "test.drop(cols_to_drop_na, axis = 1, inplace = True)\n",
    "train.shape"
   ]
  },
  {
   "cell_type": "markdown",
   "id": "a47994fa",
   "metadata": {},
   "source": [
    "# Removing Outliers"
   ]
  },
  {
   "cell_type": "code",
   "execution_count": 5,
   "id": "e073ac57",
   "metadata": {},
   "outputs": [
    {
     "name": "stdout",
     "output_type": "stream",
     "text": [
      "SalePrice 99%:  442567.01000000053\n",
      "GrLivArea 99%:  3123.4800000000023\n",
      "LotArea 99%:  37567.64000000021\n"
     ]
    }
   ],
   "source": [
    "print(\"SalePrice 99%: \", train['SalePrice'].quantile(0.99))\n",
    "print(\"GrLivArea 99%: \", train['GrLivArea'].quantile(0.99))\n",
    "print(\"LotArea 99%: \", train['LotArea'].quantile(0.99))"
   ]
  },
  {
   "cell_type": "markdown",
   "id": "e7b6742c",
   "metadata": {},
   "source": [
    "Sale price outliers"
   ]
  },
  {
   "cell_type": "code",
   "execution_count": 6,
   "id": "f6b9f90e",
   "metadata": {},
   "outputs": [
    {
     "data": {
      "text/plain": [
       "(1446, 74)"
      ]
     },
     "execution_count": 6,
     "metadata": {},
     "output_type": "execute_result"
    }
   ],
   "source": [
    "rows_to_drop = train[train['SalePrice'] > 450000].index\n",
    "train.drop(rows_to_drop, inplace = True)\n",
    "train.shape"
   ]
  },
  {
   "cell_type": "markdown",
   "id": "9c1c80a1",
   "metadata": {},
   "source": [
    "Ground living area outliers"
   ]
  },
  {
   "cell_type": "code",
   "execution_count": 7,
   "id": "56a35bf2",
   "metadata": {},
   "outputs": [
    {
     "data": {
      "text/plain": [
       "(1438, 74)"
      ]
     },
     "execution_count": 7,
     "metadata": {},
     "output_type": "execute_result"
    }
   ],
   "source": [
    "rows_to_drop = train[train['GrLivArea'] > 3200].index\n",
    "train.drop(rows_to_drop, inplace = True)\n",
    "train.shape"
   ]
  },
  {
   "cell_type": "markdown",
   "id": "af8421d5",
   "metadata": {},
   "source": [
    "Lot area outliers"
   ]
  },
  {
   "cell_type": "code",
   "execution_count": 8,
   "id": "7cfcd802",
   "metadata": {},
   "outputs": [
    {
     "data": {
      "text/plain": [
       "(1426, 74)"
      ]
     },
     "execution_count": 8,
     "metadata": {},
     "output_type": "execute_result"
    }
   ],
   "source": [
    "rows_to_drop = train[train['LotArea'] > 38000].index\n",
    "train.drop(rows_to_drop, inplace = True)\n",
    "train.shape"
   ]
  },
  {
   "cell_type": "markdown",
   "id": "c163fd9c",
   "metadata": {},
   "source": [
    "# Preprocessing"
   ]
  },
  {
   "cell_type": "code",
   "execution_count": 9,
   "id": "51171b37",
   "metadata": {},
   "outputs": [],
   "source": [
    "y = train.pop('SalePrice')"
   ]
  },
  {
   "cell_type": "code",
   "execution_count": 10,
   "id": "46c3257c",
   "metadata": {},
   "outputs": [],
   "source": [
    "categorical_cols = [cname for cname in train.columns if\n",
    "                    train[cname].dtype == 'object']\n",
    "\n",
    "numerical_cols = [cname for cname in train.columns if\n",
    "                  train[cname].dtype in ['int64', 'float64']]\n",
    "\n",
    "my_cols = categorical_cols + numerical_cols\n",
    "train = train[my_cols]\n",
    "test = test[my_cols]"
   ]
  },
  {
   "cell_type": "code",
   "execution_count": 11,
   "id": "592a7b8a",
   "metadata": {},
   "outputs": [],
   "source": [
    "from sklearn.compose import ColumnTransformer\n",
    "from sklearn.pipeline import Pipeline\n",
    "from sklearn.impute import SimpleImputer\n",
    "from sklearn.preprocessing import OneHotEncoder\n",
    "from sklearn.ensemble import RandomForestRegressor\n",
    "\n",
    "numerical_transformer = SimpleImputer(strategy = 'constant', fill_value = 0)\n",
    "\n",
    "categorical_transformer = Pipeline(steps = [\n",
    "    ('imputer', SimpleImputer(strategy = 'most_frequent')),\n",
    "    ('onehot', OneHotEncoder(handle_unknown = 'ignore'))\n",
    "])\n",
    "\n",
    "preprocessor = ColumnTransformer(\n",
    "    transformers = [\n",
    "        ('num', numerical_transformer, numerical_cols),\n",
    "        ('cat', categorical_transformer, categorical_cols)\n",
    "    ])"
   ]
  },
  {
   "cell_type": "markdown",
   "id": "741075b7",
   "metadata": {},
   "source": [
    "# Modeling"
   ]
  },
  {
   "cell_type": "markdown",
   "id": "c8885ec0",
   "metadata": {},
   "source": [
    "Finding the best model"
   ]
  },
  {
   "cell_type": "code",
   "execution_count": 12,
   "id": "71db5ae2",
   "metadata": {},
   "outputs": [],
   "source": [
    "from sklearn.model_selection import cross_val_score\n",
    "\n",
    "def score_model(pipeline):\n",
    "    scores = -1 * cross_val_score(pipeline, train, y,\n",
    "                                  cv = 5,\n",
    "                                  scoring = 'neg_mean_absolute_error')\n",
    "    print(scores)\n",
    "    print('Best MAE: ', scores.min())\n",
    "    print('Average MAE: ', scores.mean())"
   ]
  },
  {
   "cell_type": "code",
   "execution_count": 13,
   "id": "1585b90e",
   "metadata": {},
   "outputs": [
    {
     "name": "stdout",
     "output_type": "stream",
     "text": [
      "[17127.42765734 15454.99659649 15511.67663158 14871.62768421\n",
      " 16155.02070175]\n",
      "Best MAE:  14871.627684210529\n",
      "Average MAE:  15824.149854275549\n"
     ]
    }
   ],
   "source": [
    "rf = RandomForestRegressor(random_state = 0)\n",
    "\n",
    "rf_pipeline = Pipeline(steps = [\n",
    "    ('pre', preprocessor),\n",
    "    ('rf', rf)\n",
    "])\n",
    "\n",
    "score_model(rf_pipeline)"
   ]
  },
  {
   "cell_type": "code",
   "execution_count": 14,
   "id": "1e856e32",
   "metadata": {},
   "outputs": [
    {
     "name": "stdout",
     "output_type": "stream",
     "text": [
      "[14900.43355615 14563.60050176 14737.45512718 13682.99811779\n",
      " 15103.91626968]\n",
      "Best MAE:  13682.998117791432\n",
      "Average MAE:  14597.680714511876\n"
     ]
    }
   ],
   "source": [
    "from sklearn.ensemble import GradientBoostingRegressor\n",
    "from xgboost import XGBRFRegressor\n",
    "\n",
    "gbr = GradientBoostingRegressor(random_state = 0)\n",
    "\n",
    "gbr_pipeline = Pipeline(steps = [\n",
    "    ('pre', preprocessor),\n",
    "    ('gbr', gbr)\n",
    "])\n",
    "\n",
    "score_model(gbr_pipeline)"
   ]
  },
  {
   "cell_type": "code",
   "execution_count": 15,
   "id": "066204bc",
   "metadata": {},
   "outputs": [
    {
     "name": "stdout",
     "output_type": "stream",
     "text": [
      "[18102.1873361  17671.68289474 18062.70208333 17327.90633224\n",
      " 17584.94180373]\n",
      "Best MAE:  17327.906332236842\n",
      "Average MAE:  17749.8840900273\n"
     ]
    }
   ],
   "source": [
    "xgbrf = XGBRFRegressor(random_state = 0)\n",
    "\n",
    "xgbrf_pipeline = Pipeline(steps = [\n",
    "    ('pre', preprocessor),\n",
    "    ('xgbrf', xgbrf)\n",
    "])\n",
    "\n",
    "score_model(xgbrf_pipeline)"
   ]
  },
  {
   "cell_type": "markdown",
   "id": "1cb2aa0a",
   "metadata": {},
   "source": [
    "Finding optimal options for gradient boosting regressor"
   ]
  },
  {
   "cell_type": "code",
   "execution_count": 18,
   "id": "e28a16eb",
   "metadata": {},
   "outputs": [
    {
     "name": "stdout",
     "output_type": "stream",
     "text": [
      "[12860.30858119 13060.86178804 13596.37958971 12100.93633395\n",
      " 13463.17933801]\n",
      "Best MAE:  12100.936333951451\n",
      "Average MAE:  13016.333126181187\n"
     ]
    }
   ],
   "source": [
    "gbr = GradientBoostingRegressor(random_state = 0, n_estimators = 800, subsample = 0.3, learning_rate = 0.03)\n",
    "\n",
    "gbr_pipeline = Pipeline(steps = [\n",
    "    ('pre', preprocessor),\n",
    "    ('gbr', gbr)\n",
    "])\n",
    "\n",
    "score_model(gbr_pipeline)"
   ]
  },
  {
   "cell_type": "markdown",
   "id": "4e1519d6",
   "metadata": {},
   "source": [
    "# Submission"
   ]
  },
  {
   "cell_type": "code",
   "execution_count": 19,
   "id": "609635a2",
   "metadata": {},
   "outputs": [],
   "source": [
    "gbr_pipeline.fit(train, y)\n",
    "predictions = gbr_pipeline.predict(test)\n",
    "\n",
    "output = pd.DataFrame({'Id' : test.index,\n",
    "                       'SalePrice' : predictions})\n",
    "output.to_csv('submission.csv', index = False)"
   ]
  }
 ],
 "metadata": {
  "kernelspec": {
   "display_name": "Python 3 (ipykernel)",
   "language": "python",
   "name": "python3"
  },
  "language_info": {
   "codemirror_mode": {
    "name": "ipython",
    "version": 3
   },
   "file_extension": ".py",
   "mimetype": "text/x-python",
   "name": "python",
   "nbconvert_exporter": "python",
   "pygments_lexer": "ipython3",
   "version": "3.9.12"
  }
 },
 "nbformat": 4,
 "nbformat_minor": 5
}
